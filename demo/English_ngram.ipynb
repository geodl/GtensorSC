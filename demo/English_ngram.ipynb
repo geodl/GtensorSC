{
 "cells": [
  {
   "cell_type": "code",
   "execution_count": null,
   "metadata": {
    "collapsed": false
   },
   "outputs": [],
   "source": [
    "# Please refer the README.md under the data folder for generating the data\n",
    "push!(LOAD_PATH, \"../\")\n",
    "include(\"../util.jl\")"
   ]
  },
  {
   "cell_type": "code",
   "execution_count": null,
   "metadata": {
    "collapsed": false,
    "scrolled": true
   },
   "outputs": [],
   "source": [
    "# demo for 3gram data\n",
    "\n",
    "# para is the parameters for the algorithm here we set ALPHA = 0.8, MIN_NUM = 5, MAX_NUM = 100, PHI = 0.4\n",
    "para = algPara(0.8, 5, 100,0.4)\n",
    "P = read_tensor(\"../data/English_ngram/tensor_w3_.txt\");\n",
    "\n",
    "# the return value r is the binary tree for clustering results.\n",
    "(r,h) = tensor_speclustering(P, para);\n",
    "\n",
    "# after the clustering algorithm completed, to output the clustering result\n",
    "# use the code: indVec = zeros(Int,r.n); traCount = trav_tree(r, indVec, 1)\n",
    "# indVec then shows the group number for each node as indexed by line number"
   ]
  },
  {
   "cell_type": "code",
   "execution_count": null,
   "metadata": {
    "collapsed": false,
    "scrolled": true
   },
   "outputs": [],
   "source": [
    "# computing the polularity scores for clsuters\n",
    "gscore = group_score(P,r)"
   ]
  },
  {
   "cell_type": "code",
   "execution_count": null,
   "metadata": {
    "collapsed": true
   },
   "outputs": [],
   "source": [
    "# load the dic file\n",
    "f = readdlm(\"../data/English_ngram/dic_w3_.txt\");\n",
    "wordDic = [f[i,1] => f[i,2] for i = 1:size(f,1)];"
   ]
  },
  {
   "cell_type": "code",
   "execution_count": null,
   "metadata": {
    "collapsed": false,
    "scrolled": true
   },
   "outputs": [],
   "source": [
    "# this function can print the clusters that have popularity score between the interval (semTol_low,semTol_up)\n",
    "# and number of words between (numTol_low, numTol_up)\n",
    "# by setting semTol_low = 0.08, semTol_up = 1 we have the top two clusters\n",
    "print_tree_word(r,gscore,1,wordDic, semTol_low = 0.08, semTol_up = 1, numTol_low = 1, numTol_up = 100)"
   ]
  },
  {
   "cell_type": "code",
   "execution_count": null,
   "metadata": {
    "collapsed": false
   },
   "outputs": [],
   "source": [
    "# by setting semTol_low = 0, semTol_up = 0.000001 we have clusters ranked in the last.\n",
    "print_tree_word(r,gscore,1,wordDic, semTol_low = 0, semTol_up = 0.000001, numTol_low = 1, numTol_up = 100)"
   ]
  },
  {
   "cell_type": "code",
   "execution_count": null,
   "metadata": {
    "collapsed": true
   },
   "outputs": [],
   "source": [
    "# The same for the 4gram data"
   ]
  }
 ],
 "metadata": {
  "kernelspec": {
   "display_name": "Julia 0.4.0",
   "language": "julia",
   "name": "julia-0.4"
  },
  "language_info": {
   "file_extension": ".jl",
   "mimetype": "application/julia",
   "name": "julia",
   "version": "0.4.0"
  }
 },
 "nbformat": 4,
 "nbformat_minor": 0
}
